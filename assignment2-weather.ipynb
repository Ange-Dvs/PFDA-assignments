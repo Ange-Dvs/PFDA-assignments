{
 "cells": [
  {
   "cell_type": "markdown",
   "metadata": {},
   "source": [
    "## Assignment week 2 \n",
    "This juptyer notebook will readh in the csv file weatherreadings1.csv and plot the temperature over time for the \"dryBulbTemperature_Celsius\" field."
   ]
  },
  {
   "cell_type": "code",
   "execution_count": null,
   "metadata": {},
   "outputs": [],
   "source": [
    "import pandas as pd #importing pandas module to read the csv data in\n",
    "\n",
    "df = pd.read_csv(\"C:/Users/angel/OneDrive/College/pfda/PFDA-courseware/assignment/weatherreadings1.csv\") #reading in the file from a seperate folder\n",
    "\n",
    "print(df) # test print"
   ]
  },
  {
   "cell_type": "code",
   "execution_count": null,
   "metadata": {},
   "outputs": [],
   "source": []
  }
 ],
 "metadata": {
  "kernelspec": {
   "display_name": "base",
   "language": "python",
   "name": "python3"
  },
  "language_info": {
   "codemirror_mode": {
    "name": "ipython",
    "version": 3
   },
   "file_extension": ".py",
   "mimetype": "text/x-python",
   "name": "python",
   "nbconvert_exporter": "python",
   "pygments_lexer": "ipython3",
   "version": "3.12.4"
  }
 },
 "nbformat": 4,
 "nbformat_minor": 2
}
